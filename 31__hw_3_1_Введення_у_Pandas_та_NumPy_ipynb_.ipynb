{
 "cells": [
  {
   "cell_type": "markdown",
   "metadata": {
    "id": "6bbb4b6a"
   },
   "source": [
    "# Домашнє завдання до теми \"Введення у Pandas та NumPy\""
   ]
  },
  {
   "cell_type": "markdown",
   "metadata": {
    "id": "7ef4e602"
   },
   "source": [
    "У домашніх завданнях цього модулю ми працюємо з набором даних про продажі в різних магазинах мережі супермаркетів.\n",
    "\n",
    "## Контекст даних\n",
    "Зростання супермаркетів у найбільш населених містах збільшується, а конкуренція на ринку також висока. Набір даних є вигрузкою історичних продажів компанії-мережі супермаркетів у 3х різних філіях протягом 3 місяців.\n",
    "\n",
    "**Ціль:** Цей набір даних може бути використаний для цілей розуміння тенденцій продажів, які товари в якому місті варто продавати, а поставку яких - варто скоротити. На основі цих даних можна оцінити майбутні тенденції продажів, оцінити поведінку споживачів та оптимізувати стратегію продажів.\n",
    "\n",
    "Ми будемо робити елементи аналізу в цьому напрямі.\n",
    "\n",
    "## Опис даних\n",
    "\n",
    "| Назва оригінальна           | Переклад назви             | Опис українською                                                                                       |\n",
    "|---------------------------|--------------------------|-----------------------------------------------------------------------------------------------------|\n",
    "| Invoice id                | Ідентифікатор чека       | Комп’ютерно генерований номер ідентифікації чека продажу                                             |\n",
    "| Branch                    | Філія                    | Філія супермаркету (доступні 3 філії, ідентифіковані як A, B та C)                                     |\n",
    "| City                      | Місто                    | Місцезнаходження суперцентрів                                                                        |\n",
    "| Customer type             | Тип клієнта              | Тип клієнтів, зафіксований як Члени для клієнтів, що використовують картку члена, та Звичайні без картки |\n",
    "| Gender                    | Стать                    | Стать покупця                                                                                       |\n",
    "| Product line              | Лінійка продуктів        | Загальні групи категоризації товарів - Електронні аксесуари, Модні аксесуари, Їжа та напої, Здоров’я та краса, Дім і стиль життя, Спорт та подорожі |\n",
    "| Unit price                | Ціна за одиницю          | Ціна кожного продукту в доларах США                                                                  |\n",
    "| Quantity                  | Кількість                | Кількість продуктів, придбаних клієнтом                                                             |\n",
    "| Tax                       | Податок                  | 5% податковий збір для покупця                                                                       |\n",
    "| Total                     | Загальна сума            | Загальна ціна з урахуванням податку                                                                  |\n",
    "| Date                      | Дата                     | Дата покупки (Дані доступні з січня 2019 по березень 2019)                                           |\n",
    "| Time                      | Час                      | Час покупки (з 10:00 до 21:00)                                                                       |\n",
    "| Payment                   | Оплата                   | Метод оплати, використаний клієнтом для покупки (доступні 3 методи – Готівка, Кредитна картка та Електронний гаманець) |\n",
    "| COGS                      | Собівартість проданих товарів | Собівартість проданих товарів                                                                      |\n",
    "| Gross margin percentage   | Відсоток валового прибутку | Відсоток валового прибутку                                                                         |\n",
    "| Gross income              | Валовий дохід            | Валовий дохід                                                                                       |\n",
    "| Rating                    | Рейтинг                  | Рейтинг задоволення клієнтів від загального досвіду покупок (На шкалі від 1 до 10)                    |\n",
    "\n",
    "\n",
    "## Робота з даними в рамках завдань цього модулю\n",
    "\n",
    "Завантажте дані з навчальної платформи собі локально. Як найркаще організувати збереження даних і ноутбуків було наведено в лекції. Якщо Ви працюєте в Colab - то рекомендую або розмістити дані у себе на диску і підключити диск (`Files` -> `Mount Drive`) або перетягнути дані в `Files` на робочу сесію і читати звідти.\n",
    "\n",
    "Дані ми НЕ заливаємо зазвичай в git, особливо якщо вони більше 10мб - це погана практика. Ліпше залити на гугл диск і дати посилання в репозиторії в readme.md файлі, якщо дані великі. Саме так рекомендую робити для проєктів з портфоліо.\n",
    "\n",
    "У домашніх завданнях цього модуля особливо важливо **уважно** читати формулювання завдання і всі коментарі. Також у цьому модулі треба по максимуму використовувати функціонал бібліотеки pandas, навіть якщо існують альтернативні способи зробити те саме. Нагадую, що працюючи з pandas ми здебільшого НЕ потребуємо використовувати цикли для створення колонки - для цього є інші, більш загальноприйняті методи, розглянуті в лекції.\n"
   ]
  },
  {
   "cell_type": "code",
   "execution_count": 1,
   "metadata": {
    "colab": {
     "base_uri": "https://localhost:8080/"
    },
    "id": "oP2I4HiYnDob",
    "outputId": "8f89ac13-2d33-47e0-fce4-d56e592f9b32"
   },
   "outputs": [
    {
     "ename": "ModuleNotFoundError",
     "evalue": "No module named 'google.colab'",
     "output_type": "error",
     "traceback": [
      "\u001b[1;31m---------------------------------------------------------------------------\u001b[0m",
      "\u001b[1;31mModuleNotFoundError\u001b[0m                       Traceback (most recent call last)",
      "Cell \u001b[1;32mIn[1], line 1\u001b[0m\n\u001b[1;32m----> 1\u001b[0m \u001b[38;5;28;01mfrom\u001b[39;00m \u001b[38;5;21;01mgoogle\u001b[39;00m\u001b[38;5;21;01m.\u001b[39;00m\u001b[38;5;21;01mcolab\u001b[39;00m \u001b[38;5;28;01mimport\u001b[39;00m drive\n\u001b[0;32m      2\u001b[0m drive\u001b[38;5;241m.\u001b[39mmount(\u001b[38;5;124m'\u001b[39m\u001b[38;5;124m'\u001b[39m)\n",
      "\u001b[1;31mModuleNotFoundError\u001b[0m: No module named 'google.colab'"
     ]
    }
   ],
   "source": [
    "from google.colab import drive\n",
    "drive.mount('')"
   ]
  },
  {
   "cell_type": "code",
   "execution_count": 2,
   "metadata": {
    "colab": {
     "base_uri": "https://localhost:8080/"
    },
    "id": "nRdngX1yq1a5",
    "outputId": "8f5d1d27-0331-4f10-b602-f5b5104d0c32"
   },
   "outputs": [
    {
     "ename": "ModuleNotFoundError",
     "evalue": "No module named 'google.colab'",
     "output_type": "error",
     "traceback": [
      "\u001b[1;31m---------------------------------------------------------------------------\u001b[0m",
      "\u001b[1;31mModuleNotFoundError\u001b[0m                       Traceback (most recent call last)",
      "Cell \u001b[1;32mIn[2], line 1\u001b[0m\n\u001b[1;32m----> 1\u001b[0m \u001b[38;5;28;01mfrom\u001b[39;00m \u001b[38;5;21;01mgoogle\u001b[39;00m\u001b[38;5;21;01m.\u001b[39;00m\u001b[38;5;21;01mcolab\u001b[39;00m \u001b[38;5;28;01mimport\u001b[39;00m drive\n\u001b[0;32m      2\u001b[0m drive\u001b[38;5;241m.\u001b[39mmount(\u001b[38;5;124m'\u001b[39m\u001b[38;5;124m/content/drive\u001b[39m\u001b[38;5;124m'\u001b[39m)\n",
      "\u001b[1;31mModuleNotFoundError\u001b[0m: No module named 'google.colab'"
     ]
    }
   ],
   "source": [
    "from google.colab import drive\n",
    "drive.mount('/content/drive')"
   ]
  },
  {
   "cell_type": "markdown",
   "metadata": {
    "id": "39qzN0NZAPFm"
   },
   "source": [
    "1. Імпортуйте бібліотеку pandas в загальноприйнятому форматі."
   ]
  },
  {
   "cell_type": "code",
   "execution_count": 2,
   "metadata": {
    "id": "jA1fRzz4AOsE"
   },
   "outputs": [],
   "source": [
    "import pandas as pd"
   ]
  },
  {
   "cell_type": "code",
   "execution_count": 3,
   "metadata": {},
   "outputs": [
    {
     "data": {
      "text/plain": [
       "['.ipynb_checkpoints',\n",
       " '00_karandash.jpg',\n",
       " '1626318837_4-kartinkin-com-p-zefir-ruchnoi-raboti-yeda-krasivo-foto-4.jpg',\n",
       " '1664001139_99735226.jpg',\n",
       " '377765cb67595d8fdf9398fc34a7371b-removebg-preview (1).png',\n",
       " '377765cb67595d8fdf9398fc34a7371b-removebg-preview.png',\n",
       " '4.pdf',\n",
       " 'adc8e6997f3d84a26bf94ec478eb4dca-removebg-preview.png',\n",
       " 'Aloe-Kiss-Pout-Lipstick-Lip-Shine-Flatlay-caps-on-and-off-swatch-cream-1080.jpg',\n",
       " 'Anaconda3-2024.06-1-Windows-x86_64 (1).exe',\n",
       " 'Anaconda3-2024.06-1-Windows-x86_64.exe',\n",
       " 'Audio_Driver_6.0.9462.1',\n",
       " 'bacony-script-font.zip',\n",
       " 'bd615b7400f723fa7ac3718e9fe58f95-removebg-preview.png',\n",
       " 'blender-4.1.1-windows-x64.msi',\n",
       " 'certificate.pdf',\n",
       " 'ChromeSetup.exe',\n",
       " 'desktop.ini',\n",
       " 'fa4f076b3fdee4a104517f1eef8691e2.webp',\n",
       " 'FigmaSetup.exe',\n",
       " 'gubnaya pomada 2.jpg',\n",
       " 'health_insurance_cross_sell_prediction (1).csv',\n",
       " 'Helvetica-Font.zip',\n",
       " 'hw_1_1_1_1_1_2_Cинтаксис_Python.ipynb',\n",
       " 'hw_1_2_4_If_else.ipynb',\n",
       " 'imgonline-com-ua-Resize-El27TQetToDc.jpg',\n",
       " 'imgonline-com-ua-Resize-EzK8MwpFwh7a5C.jpg',\n",
       " 'imgonline-com-ua-Resize-NVXL2eQNX0HQTNL.jpg',\n",
       " 'imgonline-com-ua-Resize-rj45eUnXHpSQLVQ.jpg',\n",
       " 'imgonline-com-ua-Resize-rXjr96WOxulbk6U1.jpg',\n",
       " 'IMG_0175.MP4',\n",
       " 'IMG_0820_2540x.jfif',\n",
       " 'InstallFigmaAgent.exe',\n",
       " 'konspekt_22portfolio_ta_reziume_smm_dizainera22.pdf',\n",
       " 'Lecture 0. Jupyter demo.ipynb',\n",
       " 'Lecture_0_jupyter_demo (1) (1).ipynb',\n",
       " 'Lecture_0_jupyter_demo (1).ipynb',\n",
       " 'Lecture_0_jupyter_demo (2).ipynb',\n",
       " 'Lecture_0_jupyter_demo.ipynb',\n",
       " 'lecture_0_jupyter_demo.py',\n",
       " 'Lecture_1_1_1_2_pythonbasics.ipynb',\n",
       " 'Lecture_3_1_3_3_Pandas_and_numpy (1).ipynb',\n",
       " 'Lecture_3_1_3_3_Pandas_and_numpy.ipynb',\n",
       " 'lecture_3_1_3_3_pandas_and_numpy.py',\n",
       " 'lisovi-pozhezhi.xlsx',\n",
       " 'manual_VVC2233MC-min.pdf',\n",
       " 'monitoring-lisiv.xlsx',\n",
       " 'OfficeSetup.exe',\n",
       " 'pexels-gustavo-fring-3983705-1.jpg',\n",
       " 'photo1689962085.jpeg',\n",
       " 'photo1692196291.jpeg',\n",
       " 'photo1692196392.jpeg',\n",
       " 'photo1692200331.jpeg',\n",
       " 'pizza-slice.png',\n",
       " 'pizza.png',\n",
       " 'postgresql-16.3-2-windows-x64.exe',\n",
       " 'profesiia_analitik_danix.pdf',\n",
       " 'python-3.13.0-amd64.exe',\n",
       " 'rozpodil-lisovikh-zemel-za-klasami-pozhezhnoyi-nebezpeki.xlsx',\n",
       " 'rs_1200x1200-230724093425-1200-E_Insider_Shop-Best_Lipsticks-gj.avif',\n",
       " 'rustup-init.exe',\n",
       " 'Telegram Desktop',\n",
       " 'tor_-z_metelykamy.jpg',\n",
       " 'tsetup-x64.4.15.2 (1).exe',\n",
       " 'Unbounded.zip',\n",
       " 'ZoomInstallerFull.exe',\n",
       " 'дз 24.08.docx',\n",
       " 'завантаження.jfif',\n",
       " 'Книга1.xlsx',\n",
       " 'Копія_записника__hw_3_1_Введення_у_Pandas_та_NumPy_ipynb_.ipynb',\n",
       " 'Новый документ.odt',\n",
       " 'фото.JPG']"
      ]
     },
     "execution_count": 3,
     "metadata": {},
     "output_type": "execute_result"
    }
   ],
   "source": [
    "import os\n",
    "os.listdir()"
   ]
  },
  {
   "cell_type": "code",
   "execution_count": 4,
   "metadata": {},
   "outputs": [
    {
     "data": {
      "text/plain": [
       "['.ipynb_checkpoints',\n",
       " 'health_insurance_cross_sell_prediction.csv',\n",
       " 'supermarket_sales.csv']"
      ]
     },
     "execution_count": 4,
     "metadata": {},
     "output_type": "execute_result"
    }
   ],
   "source": [
    "os.listdir('../data/')"
   ]
  },
  {
   "cell_type": "code",
   "execution_count": 5,
   "metadata": {},
   "outputs": [],
   "source": [
    "data_path = '../data/supermarket_sales.csv'\n",
    "df = pd.read_csv(data_path)"
   ]
  },
  {
   "cell_type": "code",
   "execution_count": 10,
   "metadata": {},
   "outputs": [],
   "source": [
    "df_shape = df.shape"
   ]
  },
  {
   "cell_type": "code",
   "execution_count": 11,
   "metadata": {},
   "outputs": [
    {
     "data": {
      "text/plain": [
       "(1000, 17)"
      ]
     },
     "execution_count": 11,
     "metadata": {},
     "output_type": "execute_result"
    }
   ],
   "source": [
    "df_shape"
   ]
  },
  {
   "cell_type": "markdown",
   "metadata": {
    "ExecuteTime": {
     "end_time": "2021-09-20T19:43:50.443031Z",
     "start_time": "2021-09-20T19:43:50.439600Z"
    },
    "id": "fd7f076b"
   },
   "source": [
    "2. За допомогою бібліотеки Pandas, викликом одbієї функції зчитайте набір даних із файлу `supermarket_sales.csv` в змінну `df` типу `pandas.DataFrame`.\n",
    "Виведіть тип даних змінної `df`."
   ]
  },
  {
   "cell_type": "code",
   "execution_count": 12,
   "metadata": {
    "id": "0kbbVMM1ATsk"
   },
   "outputs": [
    {
     "data": {
      "text/plain": [
       "pandas.core.frame.DataFrame"
      ]
     },
     "execution_count": 12,
     "metadata": {},
     "output_type": "execute_result"
    }
   ],
   "source": [
    "type(df)"
   ]
  },
  {
   "cell_type": "markdown",
   "metadata": {
    "ExecuteTime": {
     "end_time": "2022-11-01T16:51:38.594974Z",
     "start_time": "2022-11-01T16:51:38.591423Z"
    },
    "id": "33661c15"
   },
   "source": [
    "3. Виведіть кількість рядків і кількість колонок в наборі даних. Відповідь сформуйте використовуючи fstring у наступному форматі: `Набір даних містить 1000 рядків та 17 колонок`"
   ]
  },
  {
   "cell_type": "code",
   "execution_count": 24,
   "metadata": {},
   "outputs": [
    {
     "data": {
      "text/plain": [
       "(1000, 17)"
      ]
     },
     "execution_count": 24,
     "metadata": {},
     "output_type": "execute_result"
    }
   ],
   "source": [
    "df_shape = df.shape\n",
    "df_shape"
   ]
  },
  {
   "cell_type": "code",
   "execution_count": 22,
   "metadata": {
    "ExecuteTime": {
     "end_time": "2022-11-01T16:54:59.887783Z",
     "start_time": "2022-11-01T16:54:59.884323Z"
    },
    "id": "bac0cbfc"
   },
   "outputs": [
    {
     "name": "stdout",
     "output_type": "stream",
     "text": [
      "Набір даних містить 1000 рядків та 17 колонок\n"
     ]
    }
   ],
   "source": [
    "print(f'Набір даних містить {df_shape[0]} рядків та {df_shape[1]} колонок')"
   ]
  },
  {
   "cell_type": "markdown",
   "metadata": {
    "id": "4i5dUphZ_JxM"
   },
   "source": [
    "4. Скільки оперативної памʼяті у мегабайтах займає даний набір даних? Обчисліть за допомогою pandas і виведіть на екран."
   ]
  },
  {
   "cell_type": "code",
   "execution_count": 25,
   "metadata": {
    "id": "kwoNKAr-_JDf"
   },
   "outputs": [
    {
     "data": {
      "text/plain": [
       "Index                       132\n",
       "Invoice ID                 8000\n",
       "Branch                     8000\n",
       "City                       8000\n",
       "Customer type              8000\n",
       "Gender                     8000\n",
       "Product line               8000\n",
       "Unit price                 8000\n",
       "Quantity                   8000\n",
       "Tax 5%                     8000\n",
       "Total                      8000\n",
       "Date                       8000\n",
       "Time                       8000\n",
       "Payment                    8000\n",
       "cogs                       8000\n",
       "gross margin percentage    8000\n",
       "gross income               8000\n",
       "Rating                     8000\n",
       "dtype: int64"
      ]
     },
     "execution_count": 25,
     "metadata": {},
     "output_type": "execute_result"
    }
   ],
   "source": [
    "df.memory_usage()"
   ]
  },
  {
   "cell_type": "code",
   "execution_count": 27,
   "metadata": {},
   "outputs": [
    {
     "name": "stdout",
     "output_type": "stream",
     "text": [
      "136132\n"
     ]
    }
   ],
   "source": [
    "print(df.memory_usage().sum())"
   ]
  },
  {
   "cell_type": "markdown",
   "metadata": {
    "id": "ksL_sc3RwPIe"
   },
   "source": [
    "**Перше домашнє завдання із Pandas виконано! 🚀✔️**"
   ]
  }
 ],
 "metadata": {
  "colab": {
   "provenance": []
  },
  "kernelspec": {
   "display_name": "Python 3 (ipykernel)",
   "language": "python",
   "name": "python3"
  },
  "language_info": {
   "codemirror_mode": {
    "name": "ipython",
    "version": 3
   },
   "file_extension": ".py",
   "mimetype": "text/x-python",
   "name": "python",
   "nbconvert_exporter": "python",
   "pygments_lexer": "ipython3",
   "version": "3.12.4"
  }
 },
 "nbformat": 4,
 "nbformat_minor": 4
}
